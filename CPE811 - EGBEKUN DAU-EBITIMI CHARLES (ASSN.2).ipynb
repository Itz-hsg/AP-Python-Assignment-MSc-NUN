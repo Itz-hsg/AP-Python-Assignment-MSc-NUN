{
 "cells": [
  {
   "cell_type": "code",
   "execution_count": 31,
   "id": "90b21ea5-a0d9-4b43-999e-1db5e192cfb0",
   "metadata": {
    "tags": []
   },
   "outputs": [
    {
     "name": "stdout",
     "output_type": "stream",
     "text": [
      "Restaurant Name: Zuma Grill\n",
      "Cuisine Type: Mexican\n",
      "Restaurent Name: Zuma Grill\n",
      "Cuisine Type: Mexican\n",
      "The restaurant 'Zuma Grill' is now open!!!\n",
      "Restaurent Name: Zuma Grill\n",
      "Cuisine Type: Nigerian\n",
      "Restaurent Name: Cantina\n",
      "Cuisine Type: American\n",
      "Restaurent Name: Nkoyo\n",
      "Cuisine Type: Chinese\n"
     ]
    }
   ],
   "source": [
    " #QUESTION 1A\n",
    "    \n",
    "class Restaurant:\n",
    "    def __init__(self, restaurant_name, cuisine_type):\n",
    "        self.restaurant_name = restaurant_name\n",
    "        self.cuisine_type = cuisine_type\n",
    "        \n",
    "    def describe_restaurant(self):\n",
    "        print(f\"Restaurent Name: {self.restaurant_name}\")\n",
    "        print(f\"Cuisine Type: {self.cuisine_type}\")\n",
    "        \n",
    "    def open_restaurant(self):\n",
    "        print(f\"The restaurant '{self.restaurant_name}' is now open!!!\")\n",
    "        \n",
    "        \n",
    "#An Instance from the Class called Restaurant\n",
    "restaurant = Restaurant(\"Zuma Grill\", \"Mexican\")\n",
    "\n",
    "#Print the two attributes of the restaurant instance individually\n",
    "print(\"Restaurant Name:\", restaurant.restaurant_name)\n",
    "print(\"Cuisine Type:\", restaurant.cuisine_type)\n",
    "\n",
    "#Calling Both Methods describe ans open\n",
    "restaurant.describe_restaurant()\n",
    "restaurant.open_restaurant()\n",
    "\n",
    "#Creating three different instances of the restaurant class\n",
    "Maxirestaurant = Restaurant(\"Zuma Grill\", \"Nigerian\")\n",
    "Midirestaurant = Restaurant(\"Cantina\", \"American\")\n",
    "Minirestaurant = Restaurant(\"Nkoyo\", \"Chinese\")\n",
    "\n",
    "#Call the describe_restaurant for each instance\n",
    "Maxirestaurant.describe_restaurant()\n",
    "Midirestaurant.describe_restaurant()\n",
    "Minirestaurant.describe_restaurant()\n",
    "\n"
   ]
  },
  {
   "cell_type": "code",
   "execution_count": 41,
   "id": "a04e9d51-62f6-434d-8eb2-1a6283f4137a",
   "metadata": {
    "tags": []
   },
   "outputs": [
    {
     "name": "stdout",
     "output_type": "stream",
     "text": [
      "Number od Customers Served: 0\n",
      "Number od Customers Served: 22\n",
      "Number od Customers Served: 45\n",
      "Number od Customers Served: 54\n"
     ]
    }
   ],
   "source": [
    "#QUESTION 1B\n",
    "\n",
    "class Restaurant:\n",
    "    def __init__(self, restaurant_name, cuisine_type):\n",
    "        self.restaurant_name = restaurant_name\n",
    "        self.cuisine_type = cuisine_type\n",
    "        self.number_served = 0\n",
    "        \n",
    "    def describe_restaurant(self):\n",
    "        print(f\"Restaurent Name: {self.restaurant_name}\")\n",
    "        print(f\"Cuisine Type: {self.cuisine_type}\")\n",
    "        \n",
    "    def open_restaurant(self):\n",
    "        print(f\"The restaurant '{self.restaurant_name}' is now open!!!\")\n",
    "        \n",
    "    def set_number_served(self, number):\n",
    "        self.number_served = number\n",
    "        \n",
    "    def increment_number_served(self, increment):\n",
    "        self.number_served += increment\n",
    "        \n",
    "#An Instance from the Class called Restaurant\n",
    "restaurant = Restaurant(\"Zuma Grill\", \"Mexican\")\n",
    "\n",
    "#Print the number of customers the restaurant has served\n",
    "print(f\"Number od Customers Served: {restaurant.number_served}\")\n",
    "\n",
    "\n",
    "#Changing the value and reprinting \n",
    "restaurant.number_served = 22\n",
    "print(f\"Number od Customers Served: {restaurant.number_served}\")\n",
    "\n",
    "#Changing the method called increment_number_served() and print\n",
    "restaurant.set_number_served(45)\n",
    "print(f\"Number od Customers Served: {restaurant.number_served}\")\n",
    "\n",
    "#Add method called increment_number_served(), that lets you increase the number of customers who have been served and print\n",
    "restaurant.increment_number_served(9)\n",
    "print(f\"Number od Customers Served: {restaurant.number_served}\")\n"
   ]
  },
  {
   "cell_type": "code",
   "execution_count": 55,
   "id": "f45ddce0-36b5-4dc5-8404-8dc32f88252a",
   "metadata": {
    "tags": []
   },
   "outputs": [
    {
     "name": "stdout",
     "output_type": "stream",
     "text": [
      "Restaurent Name: Zuma Grill\n",
      "Cuisine Type: Ice Cream\n",
      "Available ice cream flavours.\n",
      "Chocolate\n",
      "Vanilla\n",
      "Strawberry\n",
      "Cheesecake\n",
      "Bubble Gum\n",
      "Founders Favourite\n"
     ]
    }
   ],
   "source": [
    "#QUESTION 1C\n",
    "\n",
    "class IceCreamStand(Restaurant):\n",
    "    def __init__(self, restaurant_name, cuisine_type):\n",
    "        super().__init__(restaurant_name, cuisine_type)\n",
    "        self.flavours = []\n",
    "        \n",
    "    def display_flavours(self):\n",
    "        print(\"Available ice cream flavours.\")\n",
    "        for flavours in self.flavours:\n",
    "            print(flavours)\n",
    "            \n",
    "ice_cream_stand = IceCreamStand (\"Zuma Grill\", \"Ice Cream\")\n",
    "ice_cream_stand.flavours = [\"Chocolate\", \"Vanilla\", \"Strawberry\",\"Cheesecake\", \"Bubble Gum\", \"Founders Favourite\"]\n",
    "ice_cream_stand.describe_restaurant()\n",
    "ice_cream_stand.display_flavours()"
   ]
  },
  {
   "cell_type": "code",
   "execution_count": 62,
   "id": "54be2111-c3de-4a97-822a-2084a98b72bb",
   "metadata": {
    "tags": []
   },
   "outputs": [],
   "source": [
    "#QUESTION 2A\n",
    "\n",
    "class User:\n",
    "    def __init__(self, first_name, last_name, age, state, sex, occupation, country):\n",
    "        self.first_name = first_name\n",
    "        self.last_name = last_name\n",
    "        self.age = age\n",
    "        self.state = state\n",
    "        self.sex = sex\n",
    "        self.occupation = occupation\n",
    "        self.country = country\n",
    "        \n",
    "    \n",
    "    def describe_user(self):\n",
    "        print(f\"User: {self.first_name} {self.last_name}\")\n",
    "        print(f\"Age: {self.age}\")\n",
    "        print(f\"State: {self.state}\")\n",
    "        print(f\"Sex: {self.Sex}\")\n",
    "        print(f\"Occupation: {self.Occupation}\")\n",
    "        print(f\"Country: {self.country}\\n\")\n",
    "        \n",
    "        \n",
    "    def greet_user(self):\n",
    "        print(f\"Hello, {self.first_name} {self.last_name}! How are you? Oh, your rays are already making my day brighter! Howdy, partner! Hey, howdy, hi!\\n\")\n",
    "        \n",
    "        #Creating severl instances representing different users\n",
    "        user1 = User(\"Abacha\", \"Sani\", 32, \"Niger State\", \"M\", \"Soldier\", \"Nigeria\")\n",
    "        user2 = User(\"Ngozi\", \"Okonjo-Iweala\", 50, \"Imo State\", \"F\", \"Economist\", \"Nigeria\")\n",
    "        user3 = User(\"Timi\", \"Egbekun\", 37, \"Ondo State\", \"M\", \"Computer Engineer\", \"Nigeria\")\n",
    "        user4 = User(\"Effrebo\", \"Mensah\", 49, \"Kumasi State\", \"M\", \"Footballer\", \"Ghana\")\n",
    "        user5 = User(\"Janet\", \"Ferrobim\", 35, \"Kensas City\", \"F\", \"Model\", \"United States of America\")\n",
    "        \n",
    "        #Calling both methods\n",
    "        user1.describe_user()\n",
    "        user1.greet_user()\n",
    "        \n",
    "        user2.describe_user()\n",
    "        user2.greet_user()\n",
    "        \n",
    "        user3.describe_user()\n",
    "        user3.greet_user()\n",
    "        \n",
    "        user4.describe_user()\n",
    "        user4.greet_user()\n",
    "        \n",
    "        user5.describe_user()\n",
    "        user5.greet_user()"
   ]
  },
  {
   "cell_type": "code",
   "execution_count": 73,
   "id": "2de6ac7e-5dca-413d-b4e8-42d687642852",
   "metadata": {
    "tags": []
   },
   "outputs": [
    {
     "name": "stdout",
     "output_type": "stream",
     "text": [
      "Login attempts: 4\n",
      "Login attempts after reset:0\n"
     ]
    }
   ],
   "source": [
    "#QUESTION 2B\n",
    "\n",
    "\n",
    "class User:\n",
    "    def __init__(self, first_name, last_name, age, state, sex, occupation, country):\n",
    "        self.first_name = first_name\n",
    "        self.last_name = last_name\n",
    "        self.age = age\n",
    "        self.state = state\n",
    "        self.sex = sex\n",
    "        self.occupation = occupation\n",
    "        self.country = country\n",
    "        self.login_attempts = 0\n",
    "        \n",
    "    \n",
    "    def describe_user(self):\n",
    "        print(f\"User: {self.first_name} {self.last_name}\")\n",
    "        print(f\"Age: {self.age}\")\n",
    "        print(f\"State: {self.state}\")\n",
    "        print(f\"Sex: {self.Sex}\")\n",
    "        print(f\"Occupation: {self.Occupation}\")\n",
    "        print(f\"Country: {self.country}\\n\")\n",
    "        \n",
    "    def greet_user(self):\n",
    "        print(f\"Hello, {self.first_name} {self.last_name}! How are you? Oh, your rays are already making my day brighter! Howdy, partner! Hey, howdy, hi!\\n\")\n",
    "               \n",
    "    def increment_login_attempts(self):\n",
    "        self.login_attempts +=1\n",
    "        \n",
    "    def reset_login_attempts(self):\n",
    "        self.login_attempts = 0\n",
    "        \n",
    "        \n",
    "#Creating severl instances representing different users\n",
    "user1 = User(\"Abacha\", \"Sani\", 32, \"Niger State\", \"M\", \"Soldier\", \"Nigeria\")\n",
    "\n",
    "#Login Attempts Incremented Severally\n",
    "user1.increment_login_attempts()\n",
    "user1.increment_login_attempts()\n",
    "user1.increment_login_attempts()\n",
    "user1.increment_login_attempts()\n",
    "print(f\"Login attempts: {user1.login_attempts}\")\n",
    "\n",
    "#Resetting login attempts to 0 and printing the value\n",
    "user1.reset_login_attempts()\n",
    "print(f\"Login attempts after reset:{user1.login_attempts}\")\n",
    "      "
   ]
  },
  {
   "cell_type": "code",
   "execution_count": 74,
   "id": "24658cb1-3234-4f47-9b32-b97b9bffc96a",
   "metadata": {
    "tags": []
   },
   "outputs": [
    {
     "name": "stdout",
     "output_type": "stream",
     "text": [
      "Administrator has the following privileges:\n",
      "- can add post\n",
      "- can delete post\n",
      "- can edit post\n",
      "- can create new user\n",
      "- can suspend user\n",
      "- can ban user\n"
     ]
    }
   ],
   "source": [
    "#QUESTION 2C\n",
    "\n",
    "class Admin(User):\n",
    "    def __init__(self, first_name, last_name, age, state, sex, occupation, country):\n",
    "        super().__init__(first_name, last_name, age, state, sex, occupation, country)\n",
    "        self.privileges = [\"can add post\", \"can delete post\", \"can edit post\", \"can create new user\", \"can suspend user\", \"can ban user\"]\n",
    "\n",
    "    def show_privileges(self):\n",
    "        print(f\"Administrator has the following privileges:\")\n",
    "        for privilege in self.privileges:\n",
    "            print(f\"- {privilege}\")\n",
    "\n",
    "\n",
    "# Creating an instance of the Admin class\n",
    "admin1 = Admin(\"Timi\", \"Egbekun\", 37, \"Ondo State\", \"M\", \"Computer Engineer\", \"Nigeria\")\n",
    "\n",
    "# Calling the show_privileges() method\n",
    "admin1.show_privileges()\n"
   ]
  },
  {
   "cell_type": "code",
   "execution_count": 77,
   "id": "3077d9ad-bfb9-4d16-a13b-6f71d1af121b",
   "metadata": {
    "tags": []
   },
   "outputs": [
    {
     "name": "stdout",
     "output_type": "stream",
     "text": [
      "Administrator has the following privileges:\n",
      "- can add post\n",
      "- can delete post\n",
      "- can edit post\n",
      "- can create new user\n",
      "- can suspend user\n",
      "- can ban user\n"
     ]
    }
   ],
   "source": [
    "#QUESTION 2C CONTINUED\n",
    "class Privileges:\n",
    "    def __init__(self):\n",
    "        self.privileges = [\"can add post\", \"can delete post\", \"can edit post\", \"can create new user\", \"can suspend user\", \"can ban user\"]\n",
    "\n",
    "    def show_privileges(self):\n",
    "        print(f\"Administrator has the following privileges:\")\n",
    "        for privilege in self.privileges:\n",
    "            print(f\"- {privilege}\")\n",
    "\n",
    "\n",
    "class Admin(User):\n",
    "    def __init__(self, first_name, last_name, age, state, sex, occupation, country):\n",
    "        super().__init__(first_name, last_name, age, state, sex, occupation, country)\n",
    "        self.privileges = Privileges()\n",
    "\n",
    "\n",
    "# Creating an instance of the Admin class\n",
    "admin1 = Admin(\"Timi\", \"Egbekun\", 37, \"Ondo State\", \"M\", \"Computer Engineer\", \"Nigeria\")\n",
    "\n",
    "# Calling the show_privileges() method on the Privileges instance\n",
    "admin1.privileges.show_privileges()"
   ]
  },
  {
   "cell_type": "code",
   "execution_count": null,
   "id": "5988066d-fb9c-47be-86e7-5890274a3126",
   "metadata": {},
   "outputs": [],
   "source": []
  }
 ],
 "metadata": {
  "kernelspec": {
   "display_name": "Python 3 (ipykernel)",
   "language": "python",
   "name": "python3"
  },
  "language_info": {
   "codemirror_mode": {
    "name": "ipython",
    "version": 3
   },
   "file_extension": ".py",
   "mimetype": "text/x-python",
   "name": "python",
   "nbconvert_exporter": "python",
   "pygments_lexer": "ipython3",
   "version": "3.11.3"
  }
 },
 "nbformat": 4,
 "nbformat_minor": 5
}
